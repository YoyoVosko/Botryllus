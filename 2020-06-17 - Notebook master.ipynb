{
 "cells": [
  {
   "cell_type": "markdown",
   "metadata": {},
   "source": [
    "# Notebook master\n",
    "\n",
    "As the notebook for this project has gotten unweildenly large and it has all sorts of scattered analyses I'm trying to clean things up by having a master notebook that loads the data, but the plotting and data dives happen in other notebooks."
   ]
  },
  {
   "cell_type": "markdown",
   "metadata": {},
   "source": [
    "# Imports"
   ]
  },
  {
   "cell_type": "code",
   "execution_count": 1,
   "metadata": {},
   "outputs": [
    {
     "name": "stdout",
     "output_type": "stream",
     "text": [
      "importing Jupyter notebook from GetGenesFormPathCards.ipynb\n"
     ]
    }
   ],
   "source": [
    "%matplotlib inline\n",
    "import pandas as pd\n",
    "import numpy as np\n",
    "import seaborn as sb\n",
    "import matplotlib.pyplot as plt\n",
    "from collections import defaultdict\n",
    "import itertools, os, glob\n",
    "from matplotlib_venn import venn2\n",
    "from copy import copy\n",
    "import warnings\n",
    "warnings.simplefilter('ignore')\n",
    "sb.set_context(\"notebook\")\n",
    "sb.set_style('ticks')\n",
    "\n",
    "import matplotlib as mpl\n",
    "def figres(dpi):\n",
    "    mpl.rc(\"savefig\", dpi=dpi)\n",
    "figres(100)\n",
    "from IPython.core.pylabtools import figsize\n",
    "\n",
    "from scipy.interpolate import UnivariateSpline\n",
    "from scipy.interpolate import PchipInterpolator\n",
    "from scipy import stats\n",
    "\n",
    "from scipy.spatial.distance import pdist\n",
    "from scipy.spatial import distance\n",
    "\n",
    "cmapSpecial = mpl.colors.LinearSegmentedColormap.from_list(\"\", ['blue','white',\"red\"])\n",
    "\n",
    "from tqdm import tqdm_notebook as tq\n",
    "\n",
    "import import_ipynb\n",
    "#Includes functions to get \n",
    "import GetGenesFormPathCards as PCG"
   ]
  },
  {
   "cell_type": "code",
   "execution_count": 2,
   "metadata": {},
   "outputs": [],
   "source": [
    "runCode=False"
   ]
  },
  {
   "cell_type": "markdown",
   "metadata": {},
   "source": [
    "## Genes"
   ]
  },
  {
   "cell_type": "code",
   "execution_count": 3,
   "metadata": {},
   "outputs": [],
   "source": [
    "\"\"\" \n",
    "gene_list.txt has format:\n",
    "                          ID=g1;Name=g1;Note=g1|introns:0|%transcript_support:0\n",
    "                          ID=g2408;Name=Eci1;Note=Enoyl-CoA delta isomerase 1, mitochondrial  [Mus musculus]\n",
    "\"\"\"\n",
    "def getGeneNames(file='gene_list.txt',sep=';',sep2='=',extraBS=True):\n",
    "    gene_names = defaultdict(str)\n",
    "    with open(file) as f:\n",
    "        for line in f:\n",
    "            parts = line.split(sep)\n",
    "            g = parts[0].split(sep2)[1].strip()\n",
    "            n = parts[1].split(sep2)[1].strip()\n",
    "            d = parts[2].split(sep2)[1].strip()\n",
    "            if g not in d:\n",
    "                n += \" \"+d\n",
    "            gene_names[g] = n\n",
    "    if(extraBS):\n",
    "        gene_names[\"mFuHC\"] = \"mFuHC\"\n",
    "        gene_names[\"sFuHC\"] = \"sFuHC\"\n",
    "    return gene_names\n",
    "\n",
    "def getLogCPM(counts):\n",
    "    cpm = (1e6*counts / counts.sum())\n",
    "    logCPM = np.log2(cpm + 1)\n",
    "    return logCPM"
   ]
  },
  {
   "cell_type": "code",
   "execution_count": 4,
   "metadata": {},
   "outputs": [],
   "source": [
    "# Left over from Mark, we didn't use it, but maybe it will mean somthing to you\n",
    "def homology(S, same=False):\n",
    "    \"\"\" Returns list of gene names or geneIDs in list S that have known homology \"\"\"\n",
    "    named = []\n",
    "    for s in S:\n",
    "        n = gene_names[s.split(\".\")[0]]\n",
    "        if \"[Homo\" in n or \"[Mus\" in n or \"BHF\" in n or \"FuHC\" in n:\n",
    "            if same:\n",
    "                named.append(s)\n",
    "            else:\n",
    "                named.append(n)\n",
    "    return named"
   ]
  },
  {
   "cell_type": "markdown",
   "metadata": {},
   "source": [
    "## Sample metadata"
   ]
  },
  {
   "cell_type": "code",
   "execution_count": 5,
   "metadata": {},
   "outputs": [],
   "source": [
    "gene_names = getGeneNames()\n",
    "# counts is just counts of each gene for each sample\n",
    "counts = pd.read_table(\"gene_counts.txt\", sep=\"\\t\", index_col=0)\n",
    "logCPM = getLogCPM(counts)\n",
    "\n",
    "# free_run tells the age and time of samples\n",
    "free_run = pd.read_csv('all_clock_free_run.csv',index_col=0)\n",
    "free_run.index.name=\"\"\n",
    "# remove samples with less than 5000 total counts\n",
    "bad_samples = free_run.index[((counts.loc[:, free_run.index] > 0).sum() < 5000)]\n",
    "free_run.drop(bad_samples, inplace=True)\n",
    "e_color_dict = {t:c for t,c in zip(free_run[\"Time\"].unique(), sb.color_palette(\"inferno\", n_colors=15))}\n",
    "\n",
    "# Seperated into different ages, as ages arn't compared to one another\n",
    "young = free_run[free_run['Days old']<200]\n",
    "youngCounts = counts[young.index]\n",
    "mid = free_run[free_run['Days old'].between(200, 3000, inclusive=True)]\n",
    "midCounts = counts[mid.index]\n",
    "old = free_run[free_run['Days old'] > 3000]\n",
    "oldCounts = counts[old.index]\n",
    "\n",
    "# Include an different groups you want to run in runLst\n",
    "# include the name of the group, the age/time info dataframe of the group, and the counts dataframe of the group\n",
    "runLst=[('young',young,youngCounts),('mid',mid,midCounts),('old',old,oldCounts)]"
   ]
  },
  {
   "cell_type": "markdown",
   "metadata": {
    "heading_collapsed": true
   },
   "source": [
    "## Differential expression"
   ]
  },
  {
   "cell_type": "markdown",
   "metadata": {
    "heading_collapsed": true,
    "hidden": true
   },
   "source": [
    "### R functions"
   ]
  },
  {
   "cell_type": "code",
   "execution_count": 6,
   "metadata": {
    "hidden": true
   },
   "outputs": [],
   "source": [
    "def write_count_subset(s1, s2, filename):\n",
    "    \"\"\" Writes the samples contained in s1 and s2 to file f \"\"\"\n",
    "    counts.loc[:, s1 + s2].to_csv(filename, sep=\"\\t\")\n",
    "\n",
    "def edgeR(filename, n, m, pvalue=0.05):\n",
    "    \"\"\" R function that runs edgeR and produces plots and DE gene list \"\"\"\n",
    "    %load_ext rpy2.ipython\n",
    "    %R library(\"edgeR\")\n",
    "    %R rm(list=ls())\n",
    "    %Rpush filename n m pvalue\n",
    "    %R x <- read.delim(filename, row.names=1)\n",
    "    %R y <- DGEList(counts=x, group=c(rep(\"pos\",n), rep(\"neg\",m)), genes=rownames(x))\n",
    "    %R keep <- rowSums(cpm(y)>5) >= 2\n",
    "    %R y <- y[keep,]\n",
    "    %R y$samples$lib.size <- colSums(y$counts)\n",
    "    %R l <- read.delim(\"gene_lengths.txt\", row.names=1, header=FALSE)\n",
    "    %R y$genes$length <- l[y$genes$genes, ]\n",
    "    %R y <- calcNormFactors(y)\n",
    "    %R y <- estimateCommonDisp(y)\n",
    "    %R y <- estimateTrendedDisp(y)\n",
    "    %R y <- estimateTagwiseDisp(y)\n",
    "    %R et <- exactTest(y)\n",
    "    %R summary(de <- decideTestsDGE(et, p.value=pvalue))\n",
    "    import os\n",
    "    prefix = os.path.dirname(filename)+\"/\"+filename.split(\"/\")[-1].split(\".\")[0]\n",
    "    %R n_de <- sum(abs(de))\n",
    "    %Rpull n_de\n",
    "    if n_de[0]:\n",
    "        %Rpush prefix\n",
    "        %R write.table(topTags(et, n=n_de)$table, file=paste(prefix, \".de.txt\", sep=\"\"), sep=\"\\t\", row.names=FALSE, quote=FALSE)\n",
    "    else:\n",
    "        prefix=None\n",
    "    return prefix\n",
    "\n",
    "def run_edgeR(s1, s2, filename, pvalue=0.05):\n",
    "    \"\"\" Master function to call everything, returns two lists of genes \"\"\"\n",
    "    write_count_subset(s1, s2, filename)\n",
    "    n, m = len(s1), len(s2)\n",
    "    f = edgeR(filename, n, m, pvalue=pvalue)"
   ]
  },
  {
   "cell_type": "markdown",
   "metadata": {
    "heading_collapsed": true,
    "hidden": true
   },
   "source": [
    "### Time series\n",
    "\n",
    "Assume we have five samples ordered by pseudotime (A-E), then we want to find all of the following types of sets:\n",
    "* A-B, A-C, A-D, A-E\n",
    "* A-BC, A-CD, A-DE\n",
    "* A-BCD, A-CDE\n",
    "* A-BCDE\n",
    "* $\\vdots$\n",
    "* ABCD-E\n",
    "\n",
    "To do this, the function below takes an iterable and loops over the following four values, $i$, $m$, $j$ and $m$.\n",
    "* $i$ - starting index, constrained to be between [0, N] where N is the length of the iterable\n",
    "* $n$ - size of the first group, sized between [1, N-i-1]\n",
    "* $j$ - start of the second group index\n",
    "* $m$ - length of the last group, sized between [1, N-j]"
   ]
  },
  {
   "cell_type": "code",
   "execution_count": 7,
   "metadata": {
    "hidden": true
   },
   "outputs": [],
   "source": [
    "def generate_timeseries_permutations(L):\n",
    "    \"\"\" Generator for time series permutations \"\"\"\n",
    "    N = len(L)\n",
    "    for i in range(N):\n",
    "        for n in range(1, N-i):\n",
    "            for j in range(i+n, N):\n",
    "                for m in range(1, N-j+1):\n",
    "                    yield(list(L[i:i+n]), list(L[j:j+m]))"
   ]
  },
  {
   "cell_type": "code",
   "execution_count": 8,
   "metadata": {
    "hidden": true
   },
   "outputs": [
    {
     "data": {
      "image/png": "[encoded data removed]",
      "text/plain": [
       "<Figure size 360x216 with 1 Axes>"
      ]
     },
     "metadata": {},
     "output_type": "display_data"
    },
    {
     "data": {
      "image/png": "[encoded data removed]",
      "text/plain": [
       "<Figure size 288x72 with 1 Axes>"
      ]
     },
     "metadata": {},
     "output_type": "display_data"
    }
   ],
   "source": [
    "# Visual of time series permutations\n",
    "# In edgeR/DESeq it would be comparison of red vs blue\n",
    "#                running through all possible combinations\n",
    "red = \"#C62828\"\n",
    "blue = \"#1565C0\"\n",
    "figsize(5, 3)\n",
    "for i,j in enumerate(reversed(list(generate_timeseries_permutations(range(4))))):\n",
    "    a,b = j\n",
    "    plt.barh(y=i, width=max(a)-min(a)+1, left=min(a), color=red, height=0.5)\n",
    "    plt.barh(y=i, width=max(b)-min(b)+1, left=min(b), color=blue, height=0.5)\n",
    "\n",
    "plt.axis(\"off\")\n",
    "plt.show()\n",
    "\n",
    "sb.palplot(sb.color_palette(\"inferno\", n_colors=4))\n",
    "plt.axis(\"off\")\n",
    "plt.show()"
   ]
  },
  {
   "cell_type": "code",
   "execution_count": 9,
   "metadata": {
    "hidden": true,
    "scrolled": true
   },
   "outputs": [],
   "source": [
    "def setUpDESeq(runLst,runEdgeR=False):\n",
    "    \"\"\"Sets up files so they can be properly run in DESeq/edgeR\n",
    "    Mark managed to run R code in the notebook, where as I did not\n",
    "    If you can just run the R code set runEdgeR to be True,\n",
    "    else after running this everything will be setup to run the acompanying DESeq R notebook\n",
    "    Warning: Creates many new directories when run\"\"\"\n",
    "    for freeRun in tq(runLst,desc='SetupDESeq'):\n",
    "        name = freeRun[0]\n",
    "        df = freeRun[1]\n",
    "        counts = freeRun[2]\n",
    "        for a,b in tq(generate_timeseries_permutations(df[\"Time\"].unique()),desc='Permutations for '+name):\n",
    "            s1 = list(df.index[df[\"Time\"].isin(a)])\n",
    "            s2 = list(df.index[df[\"Time\"].isin(b)])\n",
    "            nameLst=[]\n",
    "            heatLst=[]\n",
    "            for i in s1:\n",
    "                nameLst.append(i)\n",
    "                heatLst.append('Hot')\n",
    "            for i in s2:\n",
    "                nameLst.append(i)\n",
    "                heatLst.append('Cold')\n",
    "            out = pd.DataFrame(heatLst,nameLst,columns=['Group'])\n",
    "            a = list( map(str, a))\n",
    "            b = list( map(str, b))\n",
    "            filename = \"_\".join(a) + \"-\" + \"_\".join(b)\n",
    "            filename = name+\"/edgeR/0.05/\" + filename\n",
    "            if not os.path.exists(name):\n",
    "                os.mkdir(name)\n",
    "            if not os.path.exists(name+\"/edgeR/\"):\n",
    "                os.mkdir(name+\"/edgeR/\")\n",
    "            if not os.path.exists(name+\"/edgeR/0.05\"):\n",
    "                os.mkdir(name+\"/edgeR/0.05\")\n",
    "            out.to_csv(filename+'colData.csv')\n",
    "            countsOut = counts.loc[:, s1 + s2]\n",
    "            countsOut.to_csv(filename+'counts.csv')\n",
    "            if(runEdgeR):\n",
    "                if not os.path.exists(filename + \".de.txt\"):\n",
    "                    run_edgeR(s1, s2, filename, pvalue=0.05)\n",
    "                    ! rm {filename}\n",
    "                    ! touch {filename}.de.txt\n",
    "    return 1"
   ]
  },
  {
   "cell_type": "markdown",
   "metadata": {
    "hidden": true
   },
   "source": [
    "Another pattern to look for is multiple repeated humps, as in the blastogenensis cycle, the stages are all repeated multiple times as the secondary bud makes its way to becoming a zooid. The above method can be generalized to allow for 2-3 humps quite simply.\n",
    "\n",
    "Do this by splitting the blastogenesis times into partitions, and then using the existing function for each 'up-down' comparison, joining them together for the partitions."
   ]
  },
  {
   "cell_type": "code",
   "execution_count": 10,
   "metadata": {
    "hidden": true
   },
   "outputs": [],
   "source": [
    "# Leftover Mark stuff\n",
    "def generate_all_partitions(L, n=2):\n",
    "    \"\"\" Generates all n partitions possible of length N \"\"\"\n",
    "    N = len(L)\n",
    "    ranges = itertools.repeat(range(N), n)\n",
    "    for X in itertools.product(*ranges):\n",
    "        if sum(X) == N and all(x >= 2 for x in X):\n",
    "            partitions = []\n",
    "            for i in range(n):\n",
    "                start = sum(X[:i])\n",
    "                partitions.append(L[start:start+X[i]])\n",
    "            yield partitions\n",
    "\n",
    "def generate_partition_times(L, n=2):\n",
    "    for partition in generate_all_partitions(L, n):\n",
    "        gtps = [list(generate_timeseries_permutations(p)) for p in partition]\n",
    "        #print(gtps)\n",
    "        for g in itertools.product(*gtps):\n",
    "            up, down = [], []\n",
    "            for h in g:\n",
    "                up.append(h[0])\n",
    "                down.append(h[1])\n",
    "            yield list(itertools.chain.from_iterable(up)), list(itertools.chain.from_iterable(down))\n",
    "            \n",
    "def hump_blastogenesis_edgeR(X):\n",
    "    a,b = X\n",
    "    s1 = list(blastogenesis.index[blastogenesis[\"Time\"].isin(a)])\n",
    "    s2 = list(blastogenesis.index[blastogenesis[\"Time\"].isin(b)])\n",
    "    filename = \"_\".join(a) + \"-\" + \"_\".join(b)\n",
    "    filename = \"blastogenesis/edgeR_hump/0.05/\" + filename\n",
    "    if not os.path.exists(filename + \".de.txt\"):\n",
    "        print(\"*\", end=\"\")\n",
    "        run_edgeR(s1, s2, filename, pvalue=0.05)\n",
    "        ! rm {filename}\n",
    "        ! touch {filename}.de.txt"
   ]
  },
  {
   "cell_type": "code",
   "execution_count": 11,
   "metadata": {},
   "outputs": [],
   "source": [
    "# Running Code\n",
    "if(runCode):\n",
    "    setUpDESeq(runLst,runEdgeR=False)"
   ]
  },
  {
   "cell_type": "markdown",
   "metadata": {},
   "source": [
    "# If runEdgeR==False, Must now run DESeq R notebook to be able to move on"
   ]
  },
  {
   "cell_type": "markdown",
   "metadata": {
    "heading_collapsed": true,
    "hidden": true
   },
   "source": [
    "### Time signatures\n",
    "Now that I have all of the DE tests performed, I go through all the files and see which patterns are compatible for each gene, and then score to select the best pattern for each pattern."
   ]
  },
  {
   "cell_type": "code",
   "execution_count": 12,
   "metadata": {
    "hidden": true
   },
   "outputs": [],
   "source": [
    "debug=False\n",
    "import pdb\n",
    "\n",
    "def get_differential_genes(files):\n",
    "    \"\"\" Returns a dictionary of DE genes in each comparison \"\"\"\n",
    "    stages = {}\n",
    "    for f in files:\n",
    "        if os.stat(f).st_size:\n",
    "            a, b = f.split(\"\\\\\")[-1].split(\".\")[0].split(\"-\")\n",
    "            df = pd.read_csv(f, index_col=0)\n",
    "            df = df[df['pvalue']<=0.05]\n",
    "            u, d = tuple(a.split(\"_\")), tuple(b.split(\"_\"))\n",
    "            stages[u, d] = set(df[df[\"log2FoldChange\"] > 0].index), set(df[df[\"log2FoldChange\"] < 0].index)\n",
    "    return stages\n",
    "\n",
    "def invert_differential_genes(stages):\n",
    "    \"\"\" Returns an inverted dictionary, of the stages compatible with each gene \"\"\"\n",
    "    genes = defaultdict(list)\n",
    "    for a,b in stages:\n",
    "        u, d = stages[a, b]\n",
    "        for g in u:\n",
    "            genes[g].append((a, b))\n",
    "        for g in d:\n",
    "            genes[g].append((b, a))\n",
    "    return genes\n",
    "\n",
    "def generate_patterns(patterns, times):\n",
    "    \"\"\" Generator of patterns \"\"\"\n",
    "    for p in patterns:\n",
    "        u = p[0]\n",
    "        d = pd.Index(times).drop(u)\n",
    "        yield list(u), list(d)\n",
    "        \n",
    "def remove_redundant_patterns(patterns):\n",
    "    \"\"\" Returns patterns without redundancies \"\"\"\n",
    "    nr_patterns = []\n",
    "    for p in patterns:\n",
    "        if p not in nr_patterns:\n",
    "            nr_patterns.append(p)\n",
    "    return nr_patterns\n",
    "\n",
    "def tupleToint(tup):\n",
    "    out = ()\n",
    "    for i in range(len(tup)):\n",
    "        elem  = tup[i]\n",
    "        elem = int(elem)\n",
    "        out += (elem,)\n",
    "    return out\n",
    "\n",
    "def score_pattern(observed, pattern):\n",
    "    \"\"\" Returns the proportion of times that the observed expression follows the desired pattern \"\"\"\n",
    "    x1, x2 = observed # these are both tuples of +ve/-ve\n",
    "    x1 = tupleToint(x1)\n",
    "    x2 = tupleToint(x2)\n",
    "    y1, y2 = pattern\n",
    "    agree = len(set(x1) & set(y1)) + len(set(x2) & set(y2))\n",
    "    disagree = len(set(x1) & set(y2)) + len(set(x2) & set(y1))\n",
    "    if(debug):\n",
    "        pdb.set_trace()\n",
    "    return agree - disagree\n",
    "\n",
    "def gene_pattern(observations, pattern):\n",
    "    \"\"\" Mapped form of above \"\"\"\n",
    "    return sum([score_pattern(o, pattern) for o in observations])\n",
    "\n",
    "def gene_patterns(observations, patterns):\n",
    "    \"\"\" Like above, but with multiple patterns \"\"\"\n",
    "    scores = {i:gene_pattern(observations, p) for i,p in enumerate(patterns)}\n",
    "    return scores\n",
    "\n",
    "def parallel_gene_patterns(g, genes,patterns, directory=\"development/blastogenesis/scores\"):\n",
    "    \"\"\" Version of above for parallelizing \"\"\"\n",
    "    import pandas as pd\n",
    "    import os\n",
    "    if not os.path.exists(directory):\n",
    "        os.mkdir(directory)\n",
    "    f = \"{}/{}.txt\".format(directory, g)\n",
    "    S = pd.Series(gene_patterns(genes[g], patterns))\n",
    "    S.to_csv(\"{}/{}.txt\".format(directory, g), sep=\"\\t\")\n",
    "    return 1\n",
    "def idxMax(series): \n",
    "    test2  = series.to_frame()\n",
    "    curMax=0\n",
    "    idMax = 0\n",
    "    for num in range(len(test2.index)):\n",
    "        i = test2.index[num]\n",
    "        row = test2.loc[i].values[0]\n",
    "        if(row > curMax):\n",
    "            curMax = row\n",
    "            idMax = num\n",
    "    return idMax\n",
    "debug=False\n",
    "def best_gene(scores, g):\n",
    "    \"\"\" Returns the top pattern for a gene, and whether it is up or down \"\"\"\n",
    "    if(debug):\n",
    "        import pdb;pdb.set_trace()\n",
    "    top = idxMax(scores.loc[g].abs())\n",
    "    if top is None or g is None:\n",
    "        import pdb; pdb.set_trace()\n",
    "    try:    \n",
    "        if scores.loc[g][top] > 0:\n",
    "            return top, True\n",
    "        else:\n",
    "            return top, False\n",
    "    except ValueError as e:\n",
    "        print('Error, check me out!!!')\n",
    "        import pdb\n",
    "        pdb.set_trace()\n",
    "        raise e\n",
    "def get_best_genes(scores):\n",
    "    \"\"\" Returns dictionaries of the genes that best fit given patterns \"\"\"\n",
    "    Up = defaultdict(list)\n",
    "    Down = defaultdict(list)\n",
    "    for g in scores.index:\n",
    "        top, pos = best_gene(scores, g)\n",
    "        if pos:\n",
    "            Up[top].append(g)\n",
    "        else:\n",
    "            Down[top].append(g)\n",
    "    return Up, Down"
   ]
  },
  {
   "cell_type": "code",
   "execution_count": 13,
   "metadata": {
    "hidden": true
   },
   "outputs": [],
   "source": [
    "def postDESeq(runLst,skipToTry=False,save=True):\n",
    "    \"\"\"After edgeR/DESeq is run, this creates the gene scores files and then the binary score file\n",
    "    \n",
    "    param: runLst, same runLst used to run edgeR/DESeq\n",
    "    param: skipToTry, boolen telling if to skip past creating gene score files, assumes they are already saved\n",
    "    param: save, boolean telling if to save gene scores and final binary table \n",
    "    \"\"\"\n",
    "    for run in tq(runLst,desc='Overall'):\n",
    "        ageName = run[0]\n",
    "        ageTimes = run[1]\n",
    "        ageCounts = run[2]\n",
    "        if not(skipToTry):\n",
    "            run_genes = invert_differential_genes(get_differential_genes(tq(glob.glob(ageName+\"/edgeR/0.05/*.de.txt\"),\n",
    "                                                                            desc='Comparisons for '+ageName)))\n",
    "            run_patterns = remove_redundant_patterns(generate_patterns(generate_timeseries_permutations(ageTimes[\"Time\"].unique()),\n",
    "                                                                ageTimes[\"Time\"].unique()))\n",
    "            for gene in tq(run_genes,desc='Calculating Scores for '+ageName):\n",
    "                parallel_gene_patterns(gene,run_genes,run_patterns,directory=ageName+'/scores')\n",
    "    \n",
    "        try:\n",
    "            run_scores = pd.read_table(ageName+\"/\"+ageName+\"_scores.txt\", index_col=0)\n",
    "        except:\n",
    "            print('run_scores not found, will create')\n",
    "            run_scores = pd.DataFrame(index=run_genes.keys(), columns=np.arange(len(run_patterns)))\n",
    "            for f in tq((glob.glob(ageName+\"/scores/*\")),desc='Super Score for '+ageName):\n",
    "                g = f.split('\\\\')[-1].split('.txt')[0]\n",
    "                df = pd.read_table(f, index_col=0, names=[g])\n",
    "                run_scores.loc[g] = df[g]\n",
    "            if(save):\n",
    "                run_scores.to_csv(ageName+\"/\"+ageName+\"_scores.txt\", sep=\"\\t\")\n",
    "        run_scores.dropna(inplace=True)\n",
    "        runUp, runDown = get_best_genes(run_scores)\n",
    "        \n",
    "        finalOut = pd.DataFrame(index=logCPM.index, columns=ageTimes[\"Time\"].unique()).fillna(0)\n",
    "        for i,k in enumerate(run_patterns):\n",
    "            g = runUp[i]\n",
    "            for t in k[0]:\n",
    "                finalOut.loc[g, t] = 1\n",
    "            g = runDown[i]\n",
    "            if('Days old' in g):\n",
    "                g.remove('Days old')\n",
    "            if('Time' in g):\n",
    "                g.remove('Time')\n",
    "            for t in k[1]:\n",
    "                finalOut.loc[g, t] = 1\n",
    "    \n",
    "        sortCols = list(finalOut.columns.sort_values())\n",
    "        finalOut = finalOut[sortCols]\n",
    "        finalOut[\"gene\"] = [gene_names[g.split(\".\")[0]].split(\" \")[0] for g in finalOut.index]\n",
    "        if(save):\n",
    "            finalOut.to_csv(ageName+\"/\"+ageName+\"_binary.txt\", sep=\"\\t\")\n",
    "    return finalOut"
   ]
  },
  {
   "cell_type": "code",
   "execution_count": 14,
   "metadata": {},
   "outputs": [],
   "source": [
    "# Running Code\n",
    "if(runCode):\n",
    "    postDESeq(runLst,save=False)"
   ]
  },
  {
   "cell_type": "markdown",
   "metadata": {},
   "source": [
    "# Enrichment"
   ]
  },
  {
   "cell_type": "code",
   "execution_count": 15,
   "metadata": {},
   "outputs": [],
   "source": [
    "def goodSamples(lst1,lst2):\n",
    "    out=[]\n",
    "    for elem in lst1:\n",
    "        if(elem in lst2):\n",
    "            out.append(elem)\n",
    "    return out\n",
    "def binaryGeneDict(binary,col,genes):\n",
    "    \"\"\"Creates dictionary relating gene names to corresponding GI numbers\n",
    "        param: binary, binary table to be used to relate gene names to GIs\n",
    "        param: col, column of binary table that contains the gene names\n",
    "        param: genes, list of gene names to be included in the dictionary\"\"\"\n",
    "    outDict={}\n",
    "    binary['gi'] = binary.index\n",
    "    binary.index = binary[col]\n",
    "    genes = goodSamples(genes,binary.index)\n",
    "    binary2 = binary.loc[genes]\n",
    "    binary2.index = binary2['gi']\n",
    "    binary2.index.name=''\n",
    "    binary2.drop(columns='gi',inplace=True)\n",
    "    for gene in binary2.index:\n",
    "        genename = binary2.loc[gene][col]\n",
    "        if (genename in outDict):\n",
    "            outDict[genename].append(gene)\n",
    "            outDict[genename] = [gene]\n",
    "        else:\n",
    "            outDict[genename] = [gene]\n",
    "    binary.index = binary['gi']\n",
    "    binary.index.name=''\n",
    "    binary.drop(columns='gi',inplace=True)\n",
    "    return outDict\n",
    "\n",
    "debug=False\n",
    "\n",
    "def noNegs(lstIn,inplace=True,top=True):\n",
    "    \"\"\"Removes negative values from the list, replacing them with 0's\"\"\"\n",
    "    if(inplace):\n",
    "        lst = lstIn\n",
    "    else:\n",
    "        lst = lstIn.copy()\n",
    "    for num in range(len(lst)):\n",
    "        i = lst[num]\n",
    "        if(i < 0):\n",
    "            lst[num] = 0\n",
    "        if(i>=1 and top):\n",
    "            lst[num] = 1\n",
    "    return lst\n",
    "\n",
    "def plot_enrichment(genes, binary, color='blue', label=\"\", title=\"\",Names=False,percts=[0.5,0.99], ax=None):\n",
    "    \"\"\"\n",
    "    plots the enrichment of the given list of genes over the time\n",
    "    param: genes, a list of genes to be considered as a single pathway for enrichment plotting\n",
    "    param: binary, the binary table to be used to compute the enrichment of the given list/pathway\n",
    "    param: color, the color of the plotted line/highlighted area \n",
    "                 (the higlighted area's color will be transperant for each value in percts)\n",
    "    param: label, label name that will appear in legend (best used if multiple ages are in one plot)\n",
    "        default = \"\"\n",
    "    param: title, title that will appear at top of the plot\n",
    "        default = \"\"\n",
    "    param: Names, boolean telling if genes is a list of gene names (True) or GI numbers (False)\n",
    "        default = flase\n",
    "    param: percets: list of percentiles to highlight around poltted line\n",
    "        defualt = [0.5,0.99] for the 50th and 99th percentiles\n",
    "    \"\"\"\n",
    "    \n",
    "    if(Names):\n",
    "        genes = goodSamples(genes,binary['gene'].values)\n",
    "        binaryDict = binaryGeneDict(binary,'gene',genes)\n",
    "        geneLst=[]\n",
    "        for g in genes:\n",
    "            g1 = binaryDict[g]\n",
    "            geneLst += g1\n",
    "        genes = geneLst\n",
    "    binary = binary.drop(columns='gene')\n",
    "    genes = goodSamples(genes,binary.index)\n",
    "    ax = plt.gca()\n",
    "    y = binary.loc[genes].sum()/len(genes)\n",
    "    M = binary.shape[0]\n",
    "    N = len(genes)\n",
    "    # subtracts the [](https://en.wikipedia.org/wiki/Hypergeometric_distribution)\n",
    "    base = binary.sum().apply(lambda x: stats.hypergeom.mean(M, int(x), N)/N)\n",
    "    y2 = y-base\n",
    "    noNegs(y)\n",
    "    noNegs(base)\n",
    "    x = np.arange(len(y))\n",
    "    if(debug):\n",
    "        import pdb;pdb.set_trace()\n",
    "    T = np.linspace(0, max(x), 100)\n",
    "    ax.plot(T, 100*PchipInterpolator(x, y.astype('float'))(T), linewidth=2, color=color, label=label)\n",
    "    ax.plot(T, 100*PchipInterpolator(x, base.astype('float'))(T),'--', linewidth=2, color=color, label=label+' Base Line')\n",
    "    for p in percts:\n",
    "        lower = y2+binary.sum().apply(lambda x: stats.hypergeom.interval(p, M, int(x), N)[0]/N)\n",
    "        upper = y2+binary.sum().apply(lambda x: stats.hypergeom.interval(p, M, int(x), N)[1]/N)\n",
    "        noNegs(lower)\n",
    "        noNegs(upper)\n",
    "        ax.fill_between(T, 100*PchipInterpolator(x, lower.astype('float'))(T), \n",
    "                            100*PchipInterpolator(x, upper.astype('float'))(T), alpha=0.3, color=color)\n",
    "    ax.spines['bottom'].set_position('zero')\n",
    "    ax.set_xticks(x)\n",
    "    ax.set_xticklabels(y.index, rotation=90)\n",
    "    ax.set_ylabel(\"% enrichment\")\n",
    "    ax.set_title(title)\n",
    "    sb.despine()\n",
    "    return (title)"
   ]
  },
  {
   "cell_type": "code",
   "execution_count": 16,
   "metadata": {},
   "outputs": [],
   "source": [
    "def plotAges(genes,ageLst,percets=[0.68,0.95],title='',Names=True,save=False):\n",
    "    \"\"\"\n",
    "    plots the different groups (ages) enrichments on a single graph \n",
    "    \n",
    "    param: genes, list of genes to be considered as a pathway on which to run enrichment\n",
    "    param: ageLst, list of tuples with the name of the age/group and the color it should be plotted with\n",
    "           ex: [('young','blue'),('old','red')]\n",
    "    param: percets, list of percentiles to highlight around poltted line\n",
    "        defualt = [0.68,0.99] for the 68th and 95th percentiles (roughly 1 and 2 std)\n",
    "    param: title, title of the overall plot\n",
    "        default = ''\n",
    "    param: Names, boolean telling if genes is a list of gene names (True) or GI numbers (False)\n",
    "        default = True\n",
    "    \"\"\"\n",
    "    for age in ageLst:\n",
    "        name = age[0]\n",
    "        color = age[1]\n",
    "        binary = pd.read_csv(name+'/'+name+'_binary.txt',sep='\\t',index_col=0)\n",
    "        out = plot_enrichment(genes,binary,color=color,label=name,Names=Names,percts=percets,title=title)\n",
    "    plt.legend(loc=(1,0.5))\n",
    "    if(save):\n",
    "        if not os.path.exists('Save'):\n",
    "            os.mkdir('Save')\n",
    "        plt.savefig('Save/'+title+'.png',bbox_inches='tight')\n",
    "    plt.show()"
   ]
  },
  {
   "cell_type": "markdown",
   "metadata": {},
   "source": [
    "Code assumes that all gene lists for plotting are in the directory 'Gene Lists', each list seperated by spaces/tabs/newlines, if seperated by somthing else (commas, etc.) include that in sep (for example if seperator is commas, sep=',')."
   ]
  },
  {
   "cell_type": "markdown",
   "metadata": {},
   "source": [
    "A useful function to get pathway gene lists is<br>\n",
    "### PCG.getPathCards()<br> \n",
    "Which given a list of [PathCards](https://pathcards.genecards.org/) pathway names will get that pathways genes and save them in the provided directory (default is 'Gene Lists/Named/')"
   ]
  },
  {
   "cell_type": "code",
   "execution_count": 17,
   "metadata": {
    "scrolled": true
   },
   "outputs": [],
   "source": [
    "ageLstColors = [('Young',sb.color_palette(\"Set1\")[2]),('Mid',sb.color_palette(\"Set1\")[3]),('Old',sb.color_palette(\"Set1\")[4])]\n",
    "#                          'green'                             'orange'                            'purple'\n",
    "\n",
    "def plotGeneLists(sep='',percents=[0.68],directory='Gene Lists/',ageLst=ageLstColors,save=False):\n",
    "    \"\"\"plots the enrichment plots for all the pathway lists stored in Named and GI folders\n",
    "        param: sep, seperator for the inputed lists\n",
    "            default = ''\n",
    "        param: percents, list of percentiles for highlighted plot area around the line\n",
    "            default = [0.68] (about 1 std from the mean)\n",
    "        param: directory, the directory where 'Named' and 'GI' and the gene lists are held\n",
    "            default = 'Gene Lists/'\n",
    "        param: ageLst, list of tuples with the name of the age/group and the color it should be plotted with\n",
    "               ex: [('young','blue'),('old','red')]\n",
    "            default = ageLstColors (see above)\n",
    "        param: save, boolean telling if to save the plots that are created (will be save in a folder named 'Saved/')\n",
    "        \"\"\"\n",
    "    tpyLst = glob.glob(directory+'*')\n",
    "    for tpy in tq(tpyLst,desc='Overall'):\n",
    "        tpyName = tpy.split('\\\\')[1]\n",
    "        fileLst = glob.glob(tpy+'/*')\n",
    "        for file in tq(fileLst,desc=tpyName):\n",
    "            named = file.split('\\\\')[1]\n",
    "            if(named == 'Named'):\n",
    "                Names = True\n",
    "            if(named == 'GI'):\n",
    "                Names = False\n",
    "            genes = PCG.readLst(file,sep)\n",
    "            file1 = file.split('\\\\')[-1]\n",
    "            file1 = file1.replace('.txt','')\n",
    "            file1 = file1.replace('_',' ')\n",
    "            file1 = file1.title()\n",
    "            # Uses the name of the pathway list file as the title for the plot\n",
    "            plotAges(genes,title=file1,Names=Names,ageLst=ageLst,percets=percents,save=save)\n",
    "    return 1"
   ]
  },
  {
   "cell_type": "markdown",
   "metadata": {},
   "source": [
    "# Find other genes with similar/oppisite binary expression patterns"
   ]
  },
  {
   "cell_type": "code",
   "execution_count": 18,
   "metadata": {},
   "outputs": [],
   "source": [
    "def renameTime(age):\n",
    "    timeRename ={}\n",
    "    timeRename['0'] = age+'_0'\n",
    "    timeRename['3'] = age+'_3'\n",
    "    timeRename['6'] = age+'_6'\n",
    "    timeRename['9'] = age+'_9'\n",
    "    timeRename['12'] = age+'_12'\n",
    "    timeRename['15'] = age+'_15'\n",
    "    timeRename['18'] = age+'_18'\n",
    "    timeRename['21'] = age+'_21'\n",
    "    timeRename['gene'] = age+'_gene'\n",
    "    return timeRename"
   ]
  },
  {
   "cell_type": "code",
   "execution_count": 19,
   "metadata": {},
   "outputs": [],
   "source": [
    "def getBinaryAll():\n",
    "    age = 'old'\n",
    "    binaryOld = pd.read_csv(age+'/'+age+'_binary.txt',sep='\\t',index_col=0)\n",
    "    age = 'mid'\n",
    "    binaryMid = pd.read_csv(age+'/'+age+'_binary.txt',sep='\\t',index_col=0)\n",
    "    age='young'\n",
    "    binaryYoung = pd.read_csv(age+'/'+age+'_binary.txt',sep='\\t',index_col=0)\n",
    "    binaryAll = binaryYoung.rename(columns=\n",
    "                                   renameTime('young')).merge(binaryMid.rename(columns\n",
    "                                                                               =renameTime('mid')),\n",
    "                                                              left_index=True, right_index=True).merge(binaryOld.rename(columns=\n",
    "                                                                                                                        renameTime('old')),\n",
    "                                                                                                       left_index=True,\n",
    "                                                                                                       right_index=True).drop(columns=\n",
    "                                                                                                                              ['young_gene',\n",
    "                                                                                                                               'mid_gene']).rename(columns=\n",
    "                                                                                                                                                   {'old_gene':'gene name'})\n",
    "    return binaryAll"
   ]
  },
  {
   "cell_type": "code",
   "execution_count": 20,
   "metadata": {},
   "outputs": [],
   "source": [
    "def similarOppisteGenes(gene,similar=True):\n",
    "    binaryAll = getBinaryAll()\n",
    "    skipLst=[gene]\n",
    "    pattern = binaryAll.loc[gene].drop('gene name')\n",
    "    outG=[]\n",
    "    if(similar):\n",
    "        outDiff =100\n",
    "    else:\n",
    "        outDiff = -100\n",
    "    for g in (binaryAll.index):\n",
    "        if not(g in skipLst):\n",
    "            pattern2 = binaryAll.loc[g].drop('gene name')\n",
    "            difference = abs(pattern - pattern2).sum()\n",
    "            if(similar):\n",
    "                if(difference == outDiff):\n",
    "                    outG.append(g)\n",
    "                else:\n",
    "                    if(difference < outDiff):\n",
    "                        outG = [g]\n",
    "                        outDiff = difference\n",
    "            else:\n",
    "                if(difference == outDiff):\n",
    "                    outG.append(g)\n",
    "                else:\n",
    "                    if(difference > outDiff):\n",
    "                        outG = [g]\n",
    "                        outDiff = difference\n",
    "    return outG,outDiff"
   ]
  },
  {
   "cell_type": "code",
   "execution_count": 21,
   "metadata": {},
   "outputs": [],
   "source": [
    "def getGIs(gene):\n",
    "    binaryAll = getBinaryAll()\n",
    "    gene=gene.upper()\n",
    "    lst = list(binaryAll[binaryAll['gene name']==gene].index)\n",
    "    gene=gene.lower()\n",
    "    gene = gene.capitalize()\n",
    "    lst2 = list(binaryAll[binaryAll['gene name']==gene].index)\n",
    "    for elem in lst2:\n",
    "        if not elem in lst:\n",
    "            lst.append(elem)\n",
    "    print('Found '+str(len(lst))+' GIs associated with that gene name:')\n",
    "    print(', '.join(lst))\n",
    "    return lst"
   ]
  },
  {
   "cell_type": "code",
   "execution_count": 22,
   "metadata": {},
   "outputs": [],
   "source": [
    "def saveLstTup(lst,file):\n",
    "    with open(file,'w') as f:\n",
    "        for num in range(len(lst)-1):\n",
    "            elem = lst[num]\n",
    "            for eNum in range(len(elem)-1):\n",
    "                e = elem[eNum]\n",
    "                f.write(str(e)+'\\t')\n",
    "            e = elem[len(elem)-1]\n",
    "            f.write(str(e)+'\\n')\n",
    "        elem =lst[len(lst)-1]\n",
    "        for eNum in range(len(elem)-1):\n",
    "            e = elem[eNum]\n",
    "            f.write(str(e)+'\\t')\n",
    "        e = elem[len(elem)-1]\n",
    "        f.write(str(e))\n",
    "    return file"
   ]
  },
  {
   "cell_type": "code",
   "execution_count": 23,
   "metadata": {},
   "outputs": [],
   "source": [
    "def goodSamples(sam,colms):\n",
    "    out=[]\n",
    "    for elem in sam:\n",
    "        if(elem in colms):\n",
    "            out.append(elem)\n",
    "    return out"
   ]
  },
  {
   "cell_type": "code",
   "execution_count": 24,
   "metadata": {},
   "outputs": [],
   "source": [
    "def masterSimOppBin(gene,oppisite=True,similar=False,save=False):\n",
    "    binaryAll = getBinaryAll()\n",
    "    gILst = getGIs(gene)\n",
    "    outDictOp={}\n",
    "    outDictSim={}\n",
    "    for gI in tq(gILst,desc='Overall'):\n",
    "        if(oppisite):\n",
    "            outG,outDiff = similarOppisteGenes(gI,similar=False)\n",
    "            name = gI+' oppisite list.txt'\n",
    "            outputTup = []\n",
    "            for g in outG:\n",
    "                gName = binaryAll.loc[g]['gene name']\n",
    "                outputTup.append((g,gName))\n",
    "            outDictOp[gI] = outputTup\n",
    "            if(save):\n",
    "                saveLstTup(outputTup,name)\n",
    "        if(similar):\n",
    "            outG,outDiff = similarOppisteGenes(gI,similar=True)\n",
    "            name = gI+' same list.txt'\n",
    "            outputTup = []\n",
    "            for g in outG:\n",
    "                gName = binaryAll.loc[g]['gene name']\n",
    "                outputTup.append((g,gName))\n",
    "            outDictSim[gI] = outputTup\n",
    "            if(save):\n",
    "                saveLstTup(outputTup,name)\n",
    "    if(oppisite and similar):\n",
    "        return outDictOp,outDictSim\n",
    "    if(oppisite):\n",
    "        return outDictOp\n",
    "    else:\n",
    "        return outDictSim"
   ]
  },
  {
   "cell_type": "code",
   "execution_count": 25,
   "metadata": {},
   "outputs": [],
   "source": [
    "def plotHeatSimOpp(outDict):\n",
    "    countsLst=[('Young',youngCounts),('Mid',midCounts),('Old',oldCounts)]\n",
    "    for gi in outDict:\n",
    "        out=[]\n",
    "        out.append(gi) \n",
    "        lst = outDict[gi]\n",
    "        for tup in lst:\n",
    "            if((type(tup) is tuple)):\n",
    "                out.append(tup[0])   \n",
    "        for ageTup in countsLst:\n",
    "            age = ageTup[0]\n",
    "            counts = ageTup[1]\n",
    "            df = pd.DataFrame()\n",
    "            sampleLst=[]\n",
    "            timeLst=[]\n",
    "            for time in list(free_run['Time'].sort_values().unique()):\n",
    "                samples = list(free_run[free_run['Time']==time].index)\n",
    "                samples = goodSamples(samples,counts.columns)\n",
    "                sampleLst.extend(samples)\n",
    "                for sam in samples:\n",
    "                    timeLst.append(time)\n",
    "            Colors = pd.DataFrame(timeLst,sampleLst,columns=['Time'])\n",
    "            timeCounts = counts[sampleLst]\n",
    "            df = timeCounts.loc[out]\n",
    "            df = np.log2(df+1)\n",
    "            df = pd.DataFrame(stats.zscore(df,axis=1),df.index,columns=df.columns)\n",
    "            corLst = df.T.corr(method='spearman')[gi].sort_values(ascending=False).index\n",
    "            df = df.T[corLst].T\n",
    "            q = list(free_run['Time'].sort_values().unique())\n",
    "            c =sb.color_palette(\"Set1\")\n",
    "            row_palette = dict(zip(q, c)) \n",
    "            row_colors = Colors['Time'].map(row_palette)\n",
    "            cg = sb.clustermap(df,cmap=cmapSpecial,row_cluster=False,col_cluster=False,col_colors=row_colors,metric='cosine')\n",
    "            #q2 = map(str,q)\n",
    "            #for x,y in zip(q2, c):\n",
    "            #    cg.ax_heatmap.plot(0, 0, color=y, label=x, solid_capstyle=\"butt\")\n",
    "            #cg.ax_heatmap.legend(handles=q,labels=c,loc=(1,1), title=\"Time\")\n",
    "            cg.ax_heatmap.set_xlabel('Samples')\n",
    "            cg.ax_heatmap.set_xticks([])\n",
    "            cg.ax_heatmap.set_ylabel('Genes')\n",
    "            cg.ax_heatmap.set_title(gi+', '+age)\n",
    "            plt.title(gi+', '+age)\n",
    "            plt.tight_layout()\n",
    "            plt.show()\n",
    "    return 1"
   ]
  },
  {
   "cell_type": "markdown",
   "metadata": {},
   "source": [
    "## Plot Expression Linear"
   ]
  },
  {
   "cell_type": "code",
   "execution_count": 26,
   "metadata": {},
   "outputs": [],
   "source": [
    "clockGenes = pd.read_excel('clock and aging genes for fig 2A 11142020.xlsx',index_col=1)"
   ]
  },
  {
   "cell_type": "code",
   "execution_count": 27,
   "metadata": {},
   "outputs": [],
   "source": [
    "runRunLst = [('All Ages',runLst),('Young',[runLst[0]]),('Mid',[runLst[1]]),('Old',[runLst[2]])]"
   ]
  },
  {
   "cell_type": "code",
   "execution_count": 31,
   "metadata": {},
   "outputs": [],
   "source": [
    "doneLst=[]"
   ]
  },
  {
   "cell_type": "code",
   "execution_count": 37,
   "metadata": {},
   "outputs": [
    {
     "data": {
      "application/vnd.jupyter.widget-view+json": {
       "model_id": "4a1fd18b41b4482093c0b0aae26f6dec",
       "version_major": 2,
       "version_minor": 0
      },
      "text/plain": [
       "HBox(children=(FloatProgress(value=0.0, max=120.0), HTML(value='')))"
      ]
     },
     "metadata": {},
     "output_type": "display_data"
    },
    {
     "name": "stdout",
     "output_type": "stream",
     "text": [
      "\n"
     ]
    }
   ],
   "source": [
    "for gene in tq(clockGenes.index,desc=''):\n",
    "    if not gene in doneLst:\n",
    "        for rTup in runRunLst:\n",
    "            directory = rTup[0]\n",
    "            rLst = rTup[1]\n",
    "            gene2 = gene+'.t1'\n",
    "            title = clockGenes.loc[gene]['name']\n",
    "            if not type(title) == str:\n",
    "                title = title[0]\n",
    "            title = title.replace(' (no annotation)','')+', '+directory\n",
    "            plotGeneExpr(runLst=rLst,gene=gene2,title=title,showLeg=False,save=True,\n",
    "                         show=False,saveTyp='.png',saveDir='Images/'+directory)\n",
    "        doneLst.append(gene)"
   ]
  },
  {
   "cell_type": "code",
   "execution_count": 33,
   "metadata": {},
   "outputs": [],
   "source": [
    "colorLst1 = [sb.color_palette(\"Set1\")[2],sb.color_palette(\"Set1\")[3],sb.color_palette(\"Set1\")[4]]\n",
    "def plotGeneExpr(runLst,gene,colorLst=colorLst1,save=False,title='',show=True,showLeg=True,saveTyp='.pdf',\n",
    "                 saveDir='Images'):\n",
    "    giLst = gene.split('g')\n",
    "    g1 = giLst[1].lstrip('0')\n",
    "    gene = ''.join(['g',g1])\n",
    "    colorNum=0\n",
    "    for run in runLst:\n",
    "        name = run[0]\n",
    "        times = run[1]\n",
    "        counts = getLogCPM(run[2]).loc[gene]\n",
    "        color=colorLst[colorNum]\n",
    "        colorNum +=1\n",
    "        timeLst=list(times['Time'].unique())\n",
    "        timeLst.sort()\n",
    "        figsize(6, 6)\n",
    "        timeNum=0\n",
    "        frst=True\n",
    "        meanLst=[]\n",
    "        for time in timeLst:\n",
    "            samples = list(times.loc[times['Time']==time].index)\n",
    "            timeCount = counts.T.loc[samples]\n",
    "            timeMean= timeCount.mean()\n",
    "            meanLst.append(timeMean)\n",
    "            for val in timeCount:\n",
    "                plt.plot(time,val, marker='o',color=color)\n",
    "        plt.plot(timeLst,meanLst,color=color,label=name.title())\n",
    "    title2 = gene.replace('.t1','')+', '+title\n",
    "    plt.title(title2)\n",
    "    time2 = list(map(changeTime,timeLst))\n",
    "    plt.xticks(ticks=timeLst,labels=time2)\n",
    "    plt.xlabel('Time')\n",
    "    plt.ylabel('Log CPM Expression')\n",
    "    y = plt.xlim()\n",
    "    split=(6,20)\n",
    "    plt.axvspan(y[0],split[0],color='#26477e', alpha=0.25, label=\"Night\")\n",
    "    plt.axvspan(split[0],split[1],color='#FFFFDE', alpha=0.1, label=\"Day\")\n",
    "    plt.axvspan(split[1],y[1],color='#26477e', alpha=0.25)\n",
    "    if showLeg:\n",
    "        plt.legend()\n",
    "    if(save):\n",
    "        plt.savefig('Save/'+saveDir+'/'+title2+saveTyp,bbox_inches='tight')\n",
    "    if(show):\n",
    "        plt.show()\n",
    "    else:\n",
    "        plt.close()\n",
    "    return 1"
   ]
  },
  {
   "cell_type": "code",
   "execution_count": 34,
   "metadata": {},
   "outputs": [],
   "source": [
    "def changeTime(time):\n",
    "    t2 = time%12\n",
    "    amPm = time/12\n",
    "    if(amPm > 1):\n",
    "        out = str(t2)+'PM'\n",
    "    else:\n",
    "        if(amPm==1):\n",
    "            out = '12PM'\n",
    "        else:\n",
    "            if(amPm==0):\n",
    "                out = '12AM'\n",
    "            else:\n",
    "                out = str(t2)+'AM'\n",
    "    return out"
   ]
  },
  {
   "cell_type": "code",
   "execution_count": 35,
   "metadata": {},
   "outputs": [],
   "source": [
    "def plotTimes(df,dataframe=True,show=True,save=False,fileName='',outDir='Save/PDFs/',erase=False):\n",
    "    if(dataframe):\n",
    "        for row in tq(df.index,desc='Plotting '+fileName):\n",
    "            gi = df.loc[row][1]\n",
    "            name = df.loc[row][0]\n",
    "            if not (gi=='BHF' or gi=='mFuHC' or gi=='sFuHC'):\n",
    "                gi += '.t1'\n",
    "            plotGeneExpr(runLst,gi,title=name,show=show,save=save)\n",
    "        if(save):\n",
    "            mergePDFs(outDir+fileName,erase=erase)\n",
    "    else:\n",
    "        lst = df.loc[0][0].split(\",\")\n",
    "        lst2=[]\n",
    "        for elem in lst:\n",
    "            elem=elem.strip()\n",
    "            lst2.append(elem)\n",
    "        binary = getBinaryAll()\n",
    "        binDict = binaryGeneDict(binary,'gene name',lst2)\n",
    "        for elem in tq(lst2,desc='Plotting '+fileName):\n",
    "            giLst = binDict[elem]\n",
    "            for gi in giLst:\n",
    "                plotGeneExpr(runLst,gi,title=name,show=show,save=save)\n",
    "        if(save):\n",
    "            mergePDFs(outDir+fileName,erase=erase)\n",
    "    return 1"
   ]
  },
  {
   "cell_type": "code",
   "execution_count": 36,
   "metadata": {},
   "outputs": [],
   "source": [
    "def mergePDFs(name,directory='Save/Images/*',erase=False):\n",
    "    fileNames = glob.glob(directory)\n",
    "    import PyPDF2\n",
    "    from PyPDF2 import PdfFileWriter, PdfFileReader\n",
    "    input_streams = []\n",
    "    output_stream = open(name+\".pdf\", 'w+b')\n",
    "    try:\n",
    "        for input_file in tq(fileNames,desc='Merging PDFs'):\n",
    "            input_streams.append(open(input_file, 'rb'))\n",
    "        writer = PdfFileWriter()\n",
    "        for reader in map(PdfFileReader, input_streams):\n",
    "            for n in range(reader.getNumPages()):\n",
    "                writer.addPage(reader.getPage(n))\n",
    "            writer.write(output_stream)\n",
    "    finally:\n",
    "        for f in input_streams:\n",
    "            f.close()\n",
    "        output_stream.close()\n",
    "    if(erase):\n",
    "        for file in fileNames:\n",
    "            os.remove(file)\n",
    "    return name+'.pdf'"
   ]
  },
  {
   "cell_type": "code",
   "execution_count": null,
   "metadata": {},
   "outputs": [],
   "source": []
  },
  {
   "cell_type": "code",
   "execution_count": 67,
   "metadata": {},
   "outputs": [],
   "source": [
    "for file in glob.glob('*91*xlsx*'):\n",
    "    name = file.replace('.xlsx','')\n",
    "    df = pd.read_excel(file)\n",
    "    plotTimes(df,dataframe=False,show=True,save=False,fileName=name,erase=False)"
   ]
  },
  {
   "cell_type": "code",
   "execution_count": 61,
   "metadata": {},
   "outputs": [
    {
     "data": {
      "application/vnd.jupyter.widget-view+json": {
       "model_id": "27b153ed700746418648b5dd24051a7d",
       "version_major": 2,
       "version_minor": 0
      },
      "text/plain": [
       "HBox(children=(FloatProgress(value=0.0, description='Overall', max=2.0, style=ProgressStyle(description_width=…"
      ]
     },
     "metadata": {},
     "output_type": "display_data"
    },
    {
     "data": {
      "application/vnd.jupyter.widget-view+json": {
       "model_id": "18e08bc31bb34371967b6d99e396c1ee",
       "version_major": 2,
       "version_minor": 0
      },
      "text/plain": [
       "HBox(children=(FloatProgress(value=0.0, description='Plotting Botryllus classic clock genes', max=99.0, style=…"
      ]
     },
     "metadata": {},
     "output_type": "display_data"
    },
    {
     "name": "stdout",
     "output_type": "stream",
     "text": [
      "\n"
     ]
    },
    {
     "data": {
      "application/vnd.jupyter.widget-view+json": {
       "model_id": "14d3c6b25eed4da4bb407f14e263afc5",
       "version_major": 2,
       "version_minor": 0
      },
      "text/plain": [
       "HBox(children=(FloatProgress(value=0.0, description='Merging PDFs', max=117.0, style=ProgressStyle(description…"
      ]
     },
     "metadata": {},
     "output_type": "display_data"
    },
    {
     "name": "stdout",
     "output_type": "stream",
     "text": [
      "\n"
     ]
    },
    {
     "data": {
      "application/vnd.jupyter.widget-view+json": {
       "model_id": "9ca8147dab9e40558dc77b7f068c49f2",
       "version_major": 2,
       "version_minor": 0
      },
      "text/plain": [
       "HBox(children=(FloatProgress(value=0.0, description='Plotting candidate core clock genes based on domains', ma…"
      ]
     },
     "metadata": {},
     "output_type": "display_data"
    },
    {
     "name": "stdout",
     "output_type": "stream",
     "text": [
      "\n"
     ]
    },
    {
     "data": {
      "application/vnd.jupyter.widget-view+json": {
       "model_id": "57614a9340d04308a351f92643d5e965",
       "version_major": 2,
       "version_minor": 0
      },
      "text/plain": [
       "HBox(children=(FloatProgress(value=0.0, description='Merging PDFs', max=119.0, style=ProgressStyle(description…"
      ]
     },
     "metadata": {},
     "output_type": "display_data"
    },
    {
     "name": "stdout",
     "output_type": "stream",
     "text": [
      "\n",
      "\n"
     ]
    }
   ],
   "source": [
    "for file in tq(glob.glob('*clock genes*xlsx*'),desc='Overall'):\n",
    "    name = file.replace('.xlsx','')\n",
    "    df = pd.read_excel(file)\n",
    "    plotTimes(df,fileName=name,show=False,save=True,erase=True)"
   ]
  },
  {
   "cell_type": "markdown",
   "metadata": {},
   "source": [
    "# Correaltion"
   ]
  },
  {
   "cell_type": "code",
   "execution_count": 25,
   "metadata": {},
   "outputs": [],
   "source": [
    "def binaryCorrelation(geneLst):    \n",
    "    age = 'old'\n",
    "    binaryOld = pd.read_csv(age+'/'+age+'_binary.txt',sep='\\t',index_col=0)\n",
    "    age = 'mid'\n",
    "    binaryMid = pd.read_csv(age+'/'+age+'_binary.txt',sep='\\t',index_col=0)\n",
    "    age='young'\n",
    "    binaryYoung = pd.read_csv(age+'/'+age+'_binary.txt',sep='\\t',index_col=0)\n",
    "    binaryAll = binaryYoung.rename(columns=\n",
    "                                   renameTime('young')).merge(binaryMid.rename(columns\n",
    "                                                                               =renameTime('mid')),\n",
    "                                                              left_index=True, right_index=True).merge(binaryOld.rename(columns=\n",
    "                                                                                                                        renameTime('old')),\n",
    "                                                                                                       left_index=True,\n",
    "                                                                                                       right_index=True).drop(columns=\n",
    "                                                                                                                              ['young_gene',\n",
    "                                                                                                                               'mid_gene']).rename(columns=\n",
    "                                                                                                                                                   {'old_gene':'gene name'})"
   ]
  },
  {
   "cell_type": "code",
   "execution_count": 26,
   "metadata": {},
   "outputs": [],
   "source": [
    "age = 'old'\n",
    "binaryOld = pd.read_csv(age+'/'+age+'_binary.txt',sep='\\t',index_col=0)\n",
    "age = 'mid'\n",
    "binaryMid = pd.read_csv(age+'/'+age+'_binary.txt',sep='\\t',index_col=0)\n",
    "age='young'\n",
    "binaryYoung = pd.read_csv(age+'/'+age+'_binary.txt',sep='\\t',index_col=0)\n",
    "binaryAll = binaryYoung.rename(columns=\n",
    "                               renameTime('young')).merge(binaryMid.rename(columns\n",
    "                                                                           =renameTime('mid')),\n",
    "                                                          left_index=True, right_index=True).merge(binaryOld.rename(columns=\n",
    "                                                                                                                    renameTime('old')),\n",
    "                                                                                                   left_index=True,\n",
    "                                                                                                   right_index=True).drop(columns=\n",
    "                                                                                                                          ['young_gene',\n",
    "                                                                                                                           'mid_gene']).rename(columns=\n",
    "                                                                                                                                               {'old_gene':'gene name'})"
   ]
  },
  {
   "cell_type": "code",
   "execution_count": 27,
   "metadata": {},
   "outputs": [],
   "source": [
    "def percentIn(lst,lst2,rev=False):\n",
    "    num = 0\n",
    "    total = len(lst)\n",
    "    if(rev):\n",
    "        total = len(lst2)\n",
    "    percent = 0\n",
    "    for i in lst:\n",
    "        if i in lst2:\n",
    "            num +=1\n",
    "    if(total > 0):\n",
    "        percent= num/total\n",
    "    return percent"
   ]
  },
  {
   "cell_type": "code",
   "execution_count": 28,
   "metadata": {},
   "outputs": [],
   "source": [
    "def getCorrGroup(corr,threshold=0.5):\n",
    "    group = {}\n",
    "    for gRow in tq(corr.index,desc='getCorrGroup '+str(threshold)):\n",
    "        if not inGroup(gRow,group):\n",
    "            gLst=[]\n",
    "            for gCol in corr.columns:\n",
    "                correlation = corr.loc[gCol][gRow]\n",
    "                if(correlation > threshold):\n",
    "                    gLst.append(gCol)\n",
    "            group[gRow] = gLst\n",
    "    return group"
   ]
  },
  {
   "cell_type": "code",
   "execution_count": 29,
   "metadata": {},
   "outputs": [],
   "source": [
    "def inGroup(gene,group):\n",
    "    for groupLeader in group:\n",
    "        if(gene == groupLeader):\n",
    "            return True\n",
    "        gLst = group[groupLeader]\n",
    "        if(gene in gLst):\n",
    "            return True\n",
    "    return False"
   ]
  },
  {
   "cell_type": "code",
   "execution_count": 308,
   "metadata": {},
   "outputs": [],
   "source": [
    "lstDict={}\n",
    "testGLst=[]\n",
    "for file in glob.glob('Gene Lists/Named/*'):\n",
    "    if not(file == 'Gene Lists/Named\\\\Alzheimers Disease Pathway.txt'):\n",
    "        genes = PCG.readLst(file)\n",
    "        genes = goodSamples(genes,binaryDict)\n",
    "        geneLst=[]\n",
    "        for g in genes:\n",
    "            g1 = binaryDict[g]\n",
    "            geneLst += g1\n",
    "            genes = geneLst\n",
    "        lstDict[file] = genes\n",
    "        testGLst += genes\n",
    "    secondLst=[]\n",
    "    repeatLst=[]\n",
    "    for g in testGLst:\n",
    "        if not(g in secondLst):\n",
    "            secondLst.append(g)\n",
    "        else:\n",
    "            repeatLst.append(g)\n",
    "    for g in repeatLst:\n",
    "        secondLst.remove(g)\n",
    "    genes = secondLst\n",
    "\n",
    "    for file in lstDict:\n",
    "        gLst = lstDict[file]\n",
    "        gLst2=[]\n",
    "        for g in gLst:\n",
    "            if not(g in repeatLst):\n",
    "                gLst2.append(g)\n",
    "        lstDict[file] = gLst2"
   ]
  },
  {
   "cell_type": "code",
   "execution_count": null,
   "metadata": {},
   "outputs": [],
   "source": []
  },
  {
   "cell_type": "code",
   "execution_count": 3,
   "metadata": {},
   "outputs": [],
   "source": [
    "#Setup NCBI "
   ]
  },
  {
   "cell_type": "code",
   "execution_count": 39,
   "metadata": {},
   "outputs": [],
   "source": [
    "file = 'botznik-proteins_ReduceWithoutTrmonoExon1kb_goodNomenclature.aa'\n",
    "out='runNCBI'\n",
    "N=3877\n",
    "with open(file) as myfile:\n",
    "    lines=myfile.readlines()\n",
    "for i in range(int(round(len(lines)/N)/2)):\n",
    "    num = i+1\n",
    "    linesSmall = lines[N*i*2:N*(i+1)*2]\n",
    "    with(open(out+str(num)+'.aa',\"w\")) as f:\n",
    "        for line in linesSmall:\n",
    "            f.write(line)"
   ]
  }
 ],
 "metadata": {
  "kernelspec": {
   "display_name": "Python 3",
   "language": "python",
   "name": "python3"
  },
  "language_info": {
   "codemirror_mode": {
    "name": "ipython",
    "version": 3
   },
   "file_extension": ".py",
   "mimetype": "text/x-python",
   "name": "python",
   "nbconvert_exporter": "python",
   "pygments_lexer": "ipython3",
   "version": "3.8.3"
  }
 },
 "nbformat": 4,
 "nbformat_minor": 2
}
