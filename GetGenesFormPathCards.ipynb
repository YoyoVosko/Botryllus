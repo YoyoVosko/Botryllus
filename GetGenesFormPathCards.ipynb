{
 "cells": [
  {
   "cell_type": "code",
   "execution_count": 132,
   "metadata": {},
   "outputs": [],
   "source": [
    "import pandas as pd\n",
    "import numpy as np\n",
    "import tqdm\n",
    "from tqdm import tqdm_notebook as tq"
   ]
  },
  {
   "cell_type": "code",
   "execution_count": 1,
   "metadata": {},
   "outputs": [],
   "source": [
    "# Prepare to get gene lists from PathCards\n",
    "# rename, all lowercase, spaces become '_', parenthesis stay as is \n",
    "def __rename(name):\n",
    "    if not(name =='Immune Response CCR3 Signaling in Eosinophils'):\n",
    "        name = name.lower()\n",
    "        name = name.replace(' ','_')\n",
    "        name = name.replace(':','')\n",
    "        name= name.replace(',','')\n",
    "        name = name.replace('/','')\n",
    "        name = name.replace('.','')\n",
    "    else:\n",
    "        name = 'immune_response__ccr3_signaling_in_eosinophils'\n",
    "    return name"
   ]
  },
  {
   "cell_type": "code",
   "execution_count": 2,
   "metadata": {},
   "outputs": [],
   "source": [
    "def saveLst(lst,file):\n",
    "    with open(file,'w') as f:\n",
    "        for elem in lst:\n",
    "            f.write(str(elem)+'\\n')\n",
    "    return file\n",
    "\n",
    "def readLst(file,sep=''):\n",
    "    geneLst=[]\n",
    "    with open(file) as f:\n",
    "        for line in f:\n",
    "            if(sep==''):\n",
    "                genes = line.split()\n",
    "            else:\n",
    "                genes = line.split(sep)\n",
    "                \n",
    "            geneLst += genes\n",
    "    return geneLst"
   ]
  },
  {
   "cell_type": "code",
   "execution_count": 1,
   "metadata": {},
   "outputs": [],
   "source": [
    "def getPathcards(nameLst,skip=[],direct = 'Gene Lists/Named/'):\n",
    "    \"\"\"given a list of PathCard pathway names, will get the genes from that pathway and save them \n",
    "        param: nameLst, list of str, PathCard pathway names\n",
    "        param: skip, list of pathway names within nameLst that will be skipped, default=[]\n",
    "        param: direct, name of directory in which to save the created genelists\n",
    "    \"\"\"\n",
    "    direct = 'Gene Lists/Named/'\n",
    "    if not os.path.exists(direct):\n",
    "        os.mkdir(direct)\n",
    "    import requests\n",
    "    for name in tq(nameLst,desc='NameLst'):\n",
    "        if not(name in skip):\n",
    "            name = __rename(name)\n",
    "            url='https://pathcards.genecards.org/Card/'+name\n",
    "            r = requests.get(url)\n",
    "            test = str(r.content)\n",
    "            test = test.split('<table class=\"table\">\\\\r\\\\n')[2]\n",
    "            lst=[]\n",
    "            for i in range(len(test.split('</a>\\\\r\\\\n'))-2):\n",
    "                lst.append(test.split('</a>\\\\r\\\\n')[i].split('>')[-1])\n",
    "            saveLst(lst,direct+name+'.txt')\n",
    "    return direct"
   ]
  },
  {
   "cell_type": "code",
   "execution_count": null,
   "metadata": {},
   "outputs": [],
   "source": []
  }
 ],
 "metadata": {
  "kernelspec": {
   "display_name": "Python 3",
   "language": "python",
   "name": "python3"
  },
  "language_info": {
   "codemirror_mode": {
    "name": "ipython",
    "version": 3
   },
   "file_extension": ".py",
   "mimetype": "text/x-python",
   "name": "python",
   "nbconvert_exporter": "python",
   "pygments_lexer": "ipython3",
   "version": "3.8.3"
  }
 },
 "nbformat": 4,
 "nbformat_minor": 2
}
